{
 "cells": [
  {
   "cell_type": "markdown",
   "id": "6b949ebf",
   "metadata": {},
   "source": [
    "# 6-7. 프로젝트: 멋진 작사가 만들기"
   ]
  },
  {
   "cell_type": "markdown",
   "id": "ebfe117b",
   "metadata": {},
   "source": [
    "## 👣Step 1. 라이브러리 호출"
   ]
  },
  {
   "cell_type": "code",
   "execution_count": 1,
   "id": "1784e295",
   "metadata": {},
   "outputs": [],
   "source": [
    "import glob\n",
    "import os\n",
    "import numpy as np         \n",
    "import tensorflow as tf   \n",
    "import re \n",
    "import matplotlib.pyplot as plt\n",
    "from sklearn.model_selection import train_test_split"
   ]
  },
  {
   "cell_type": "markdown",
   "id": "3b318609",
   "metadata": {},
   "source": [
    "## 👣Step 2. 데이터 읽어오기"
   ]
  },
  {
   "cell_type": "code",
   "execution_count": 2,
   "id": "729f7bd9",
   "metadata": {},
   "outputs": [],
   "source": [
    "txt_file_path = os.getenv('HOME')+'/aiffel/lyricist/data/lyrics/*'"
   ]
  },
  {
   "cell_type": "code",
   "execution_count": 3,
   "id": "31c1a87c",
   "metadata": {},
   "outputs": [],
   "source": [
    "txt_list = glob.glob(txt_file_path)"
   ]
  },
  {
   "cell_type": "code",
   "execution_count": 4,
   "id": "e0756913",
   "metadata": {
    "scrolled": true
   },
   "outputs": [
    {
     "data": {
      "text/plain": [
       "['/aiffel/aiffel/lyricist/data/lyrics/janisjoplin.txt',\n",
       " '/aiffel/aiffel/lyricist/data/lyrics/nursery_rhymes.txt',\n",
       " '/aiffel/aiffel/lyricist/data/lyrics/dickinson.txt',\n",
       " '/aiffel/aiffel/lyricist/data/lyrics/nicki-minaj.txt',\n",
       " '/aiffel/aiffel/lyricist/data/lyrics/disney.txt',\n",
       " '/aiffel/aiffel/lyricist/data/lyrics/bob-marley.txt',\n",
       " '/aiffel/aiffel/lyricist/data/lyrics/beatles.txt',\n",
       " '/aiffel/aiffel/lyricist/data/lyrics/dj-khaled.txt',\n",
       " '/aiffel/aiffel/lyricist/data/lyrics/kanye.txt',\n",
       " '/aiffel/aiffel/lyricist/data/lyrics/patti-smith.txt',\n",
       " '/aiffel/aiffel/lyricist/data/lyrics/drake.txt',\n",
       " '/aiffel/aiffel/lyricist/data/lyrics/r-kelly.txt',\n",
       " '/aiffel/aiffel/lyricist/data/lyrics/rihanna.txt',\n",
       " '/aiffel/aiffel/lyricist/data/lyrics/cake.txt',\n",
       " '/aiffel/aiffel/lyricist/data/lyrics/bruno-mars.txt',\n",
       " '/aiffel/aiffel/lyricist/data/lyrics/leonard-cohen.txt',\n",
       " '/aiffel/aiffel/lyricist/data/lyrics/ludacris.txt',\n",
       " '/aiffel/aiffel/lyricist/data/lyrics/kanye-west.txt',\n",
       " '/aiffel/aiffel/lyricist/data/lyrics/eminem.txt',\n",
       " '/aiffel/aiffel/lyricist/data/lyrics/radiohead.txt',\n",
       " '/aiffel/aiffel/lyricist/data/lyrics/lorde.txt',\n",
       " '/aiffel/aiffel/lyricist/data/lyrics/notorious-big.txt',\n",
       " '/aiffel/aiffel/lyricist/data/lyrics/prince.txt',\n",
       " '/aiffel/aiffel/lyricist/data/lyrics/paul-simon.txt',\n",
       " '/aiffel/aiffel/lyricist/data/lyrics/bieber.txt',\n",
       " '/aiffel/aiffel/lyricist/data/lyrics/lin-manuel-miranda.txt',\n",
       " '/aiffel/aiffel/lyricist/data/lyrics/Kanye_West.txt',\n",
       " '/aiffel/aiffel/lyricist/data/lyrics/joni-mitchell.txt',\n",
       " '/aiffel/aiffel/lyricist/data/lyrics/alicia-keys.txt',\n",
       " '/aiffel/aiffel/lyricist/data/lyrics/nirvana.txt',\n",
       " '/aiffel/aiffel/lyricist/data/lyrics/johnny-cash.txt',\n",
       " '/aiffel/aiffel/lyricist/data/lyrics/missy-elliott.txt',\n",
       " '/aiffel/aiffel/lyricist/data/lyrics/bruce-springsteen.txt',\n",
       " '/aiffel/aiffel/lyricist/data/lyrics/jimi-hendrix.txt',\n",
       " '/aiffel/aiffel/lyricist/data/lyrics/bob-dylan.txt',\n",
       " '/aiffel/aiffel/lyricist/data/lyrics/bjork.txt',\n",
       " '/aiffel/aiffel/lyricist/data/lyrics/dolly-parton.txt',\n",
       " '/aiffel/aiffel/lyricist/data/lyrics/blink-182.txt',\n",
       " '/aiffel/aiffel/lyricist/data/lyrics/michael-jackson.txt',\n",
       " '/aiffel/aiffel/lyricist/data/lyrics/britney-spears.txt',\n",
       " '/aiffel/aiffel/lyricist/data/lyrics/al-green.txt',\n",
       " '/aiffel/aiffel/lyricist/data/lyrics/Lil_Wayne.txt',\n",
       " '/aiffel/aiffel/lyricist/data/lyrics/lil-wayne.txt',\n",
       " '/aiffel/aiffel/lyricist/data/lyrics/dr-seuss.txt',\n",
       " '/aiffel/aiffel/lyricist/data/lyrics/notorious_big.txt',\n",
       " '/aiffel/aiffel/lyricist/data/lyrics/lady-gaga.txt',\n",
       " '/aiffel/aiffel/lyricist/data/lyrics/nickelback.txt',\n",
       " '/aiffel/aiffel/lyricist/data/lyrics/amy-winehouse.txt',\n",
       " '/aiffel/aiffel/lyricist/data/lyrics/adele.txt']"
      ]
     },
     "execution_count": 4,
     "metadata": {},
     "output_type": "execute_result"
    }
   ],
   "source": [
    "(txt_list)"
   ]
  },
  {
   "cell_type": "markdown",
   "id": "44a86ed4",
   "metadata": {},
   "source": [
    "자료를 쭉 보니 이상한 것들이 있습니다.  \n",
    "Lil_Wayne이라는 래퍼의 노래는 2개로 중복이 되어 있고 Kanye_West 또한 3개가 있습니다.  \n",
    "그리고 notorious-big 이라는 가수 또한 같은 데이터가 2개나 있군요!  \n",
    "직접 들어가 데이터를 살펴보니 중복되어 있는 파일이니 중복 되는 것들은 빼고 불러와야 할 것 같습니다.  \n",
    "\n",
    "그리고.. r-kelly라는 가수는 R&B에서 큰 업적을 이루었지만.. 소아성범죄자 이기 때문에 데이터에서 빼도록 하겠습니다.  \n",
    "소아성범죄자는 근절되어야 합니다."
   ]
  },
  {
   "cell_type": "markdown",
   "id": "ab28c6e2",
   "metadata": {},
   "source": [
    "## 👣Step 3. 데이터 정제"
   ]
  },
  {
   "cell_type": "markdown",
   "id": "0ddb3987",
   "metadata": {},
   "source": [
    "### ❗❗❗❗❗잠깐 3분만 투자하세요❗❗❗❗❗ \n",
    "### 춘식이의 실험실 🧪"
   ]
  },
  {
   "cell_type": "code",
   "execution_count": 5,
   "id": "fb5d9fb6",
   "metadata": {
    "scrolled": true
   },
   "outputs": [
    {
     "name": "stdout",
     "output_type": "stream",
     "text": [
      "/aiffel/aiffel/lyricist/data/lyrics/kanye.txt(중복 데이터)가 삭제되었습니다.\n",
      "/aiffel/aiffel/lyricist/data/lyrics/r-kelly.txt(성범죄자)가 삭제되었습니다.\n",
      "/aiffel/aiffel/lyricist/data/lyrics/kanye-west.txt(중복 데이터)가 삭제되었습니다.\n",
      "/aiffel/aiffel/lyricist/data/lyrics/notorious-big.txt(중복 데이터)가 삭제되었습니다.\n",
      "/aiffel/aiffel/lyricist/data/lyrics/lil-wayne.txt(중복 데이터)가 삭제되었습니다.\n",
      "데이터 크기: 164536\n",
      "Examples:\n",
      " [\"Busted flat in Baton Rouge, waitin' for a train\", \"And I's feelin' near as faded as my jeans\", 'Bobby thumbed a diesel down, just before it rained']\n"
     ]
    }
   ],
   "source": [
    "raw_corpus = []\n",
    "\n",
    "# 여러개의 txt 파일을 모두 읽어서 raw_corpus 에 담습니다.\n",
    "for txt_file in txt_list: \n",
    "    if 'r-kelly' in txt_file: \n",
    "        print(f\"{txt_file}(성범죄자)가 삭제되었습니다.\")\n",
    "        continue\n",
    "    if 'lil-wayne' in txt_file: \n",
    "        print(f\"{txt_file}(중복 데이터)가 삭제되었습니다.\")\n",
    "        continue\n",
    "    if 'notorious-big' in txt_file: \n",
    "        print(f\"{txt_file}(중복 데이터)가 삭제되었습니다.\")\n",
    "        continue\n",
    "    if 'kanye' in txt_file: \n",
    "        print(f\"{txt_file}(중복 데이터)가 삭제되었습니다.\")\n",
    "        continue\n",
    "    \n",
    "    \n",
    "    with open(txt_file, \"r\") as f:\n",
    "        raw = f.read().splitlines()\n",
    "        raw_corpus.extend(raw)\n",
    "\n",
    "print(\"데이터 크기:\", len(raw_corpus))\n",
    "print(\"Examples:\\n\", raw_corpus[:3])"
   ]
  },
  {
   "cell_type": "markdown",
   "id": "13ee110f",
   "metadata": {},
   "source": [
    "보시는 바와 같이 중복되어있던 kanye-west 파일 2개 와 notorious-big 1개, lil-wayne 데이터 1개가 삭제 되었습니다.  \n",
    "그리고 성범죄자 r-kelly 또한 삭제되었어요  \n",
    "이제야 좀 데이터가 마음에 듭니다!"
   ]
  },
  {
   "cell_type": "code",
   "execution_count": 6,
   "id": "9359b46f",
   "metadata": {},
   "outputs": [
    {
     "name": "stdout",
     "output_type": "stream",
     "text": [
      "Busted flat in Baton Rouge, waitin' for a train\n",
      "And I's feelin' near as faded as my jeans\n",
      "Bobby thumbed a diesel down, just before it rained\n",
      "It rode us all the way to New Orleans I pulled my harpoon out of my dirty red bandanna\n",
      "I was playin' soft while Bobby sang the blues, yeah\n",
      "Windshield wipers slappin' time, I was holdin' Bobby's hand in mine\n",
      "We sang every song that driver knew Freedom's just another word for nothin' left to lose\n",
      "Nothin', don't mean nothin' hon' if it ain't free, no no\n",
      "And, feelin' good was easy, Lord, when he sang the blues\n",
      "You know, feelin' good was good enough for me\n"
     ]
    }
   ],
   "source": [
    "for idx, sentence in enumerate(raw_corpus):\n",
    "    if len(sentence) == 0: continue   # 길이가 0인 문장은 건너뜁니다.\n",
    "    if sentence[-1] == \":\": continue  # 문장의 끝이 : 인 문장은 건너뜁니다.\n",
    "\n",
    "    if idx > 9: break   # 일단 문장 10개만 확인해 볼 겁니다.\n",
    "        \n",
    "    print(sentence)"
   ]
  },
  {
   "cell_type": "code",
   "execution_count": 7,
   "id": "4f8df4fe",
   "metadata": {},
   "outputs": [],
   "source": [
    "def preprocess_sentence(sentence):\n",
    "    #일단 모두 소문자로 변환하고 양쪽 공백을 지웁니다.\n",
    "    sentence = sentence.lower().strip()   \n",
    "    # 아래 특수문자 기호 양쪽에 공백을 추가합니다.\n",
    "    sentence = re.sub(r\"([?.!,¿])\", r\" \\1 \", sentence) \n",
    "     # 공백이 많을 수 있는 부분에는 하나의 공백으로 통일합니다.\n",
    "    sentence = re.sub(r'[\" \"]+', \" \", sentence) \n",
    "     # \"\"안에 들어가있는 기호들 외에 공백으로 바꿉니다.\n",
    "    sentence = re.sub(r\"[^a-zA-Z?.!,¿]+\", \" \", sentence) \n",
    "    #다시 양쪽 공백을 지웁니다.\n",
    "    sentence = sentence.strip()\n",
    "    # 문장 시작과 끝에 start와 end 를 추가합니다.\n",
    "    sentence = '<start> ' + sentence + ' <end>'      \n",
    "    \n",
    "    return sentence"
   ]
  },
  {
   "cell_type": "code",
   "execution_count": 8,
   "id": "54acf1c2",
   "metadata": {},
   "outputs": [
    {
     "data": {
      "text/plain": [
       "['<start> busted flat in baton rouge , waitin for a train <end>',\n",
       " '<start> and i s feelin near as faded as my jeans <end>',\n",
       " '<start> bobby thumbed a diesel down , just before it rained <end>',\n",
       " '<start> it rode us all the way to new orleans i pulled my harpoon out of my dirty red bandanna <end>',\n",
       " '<start> i was playin soft while bobby sang the blues , yeah <end>',\n",
       " '<start> windshield wipers slappin time , i was holdin bobby s hand in mine <end>',\n",
       " '<start> we sang every song that driver knew freedom s just another word for nothin left to lose <end>',\n",
       " '<start> nothin , don t mean nothin hon if it ain t free , no no <end>',\n",
       " '<start> and , feelin good was easy , lord , when he sang the blues <end>',\n",
       " '<start> you know , feelin good was good enough for me <end>']"
      ]
     },
     "execution_count": 8,
     "metadata": {},
     "output_type": "execute_result"
    }
   ],
   "source": [
    "corpus = []\n",
    "\n",
    "for sentence in raw_corpus:\n",
    "    if len(sentence) == 0: continue\n",
    "    if sentence[-1] == \":\": continue\n",
    "        \n",
    "    corpus.append(preprocess_sentence(sentence))\n",
    "        \n",
    "corpus[:10]"
   ]
  },
  {
   "cell_type": "markdown",
   "id": "36e10953",
   "metadata": {},
   "source": [
    "## 👣STEP. 4 데이터 토큰화"
   ]
  },
  {
   "cell_type": "code",
   "execution_count": 9,
   "id": "7dfb481d",
   "metadata": {},
   "outputs": [
    {
     "name": "stdout",
     "output_type": "stream",
     "text": [
      "[[   2 3608 1655 ...    0    0    0]\n",
      " [   2    8    5 ...    0    0    0]\n",
      " [   2  759 6875 ...    0    0    0]\n",
      " ...\n",
      " [   2    5   20 ...    0    0    0]\n",
      " [   2    5   20 ...    0    0    0]\n",
      " [   2    5   20 ...    0    0    0]] <keras_preprocessing.text.Tokenizer object at 0x7f2fd25c8070>\n"
     ]
    }
   ],
   "source": [
    "def tokenize(corpus):\n",
    "    # 텐서플로우에서 제공하는 Tokenizer 패키지를 생성\n",
    "    tokenizer = tf.keras.preprocessing.text.Tokenizer(\n",
    "        num_words=17000,  # 전체 단어의 개수 \n",
    "        filters=' ',    # 별도로 전처리 로직을 추가할 수 있습니다. 이번에는 사용하지 않겠습니다.\n",
    "        oov_token=\"<unk>\"  # out-of-vocabulary, 사전에 없었던 단어는 어떤 토큰으로 대체할지\n",
    "    )\n",
    "    tokenizer.fit_on_texts(corpus)   # 우리가 구축한 corpus로부터 Tokenizer가 사전을 자동구축하게 됩니다.\n",
    "\n",
    "    # 이후 tokenizer를 활용하여 모델에 입력할 데이터셋을 구축하게 됩니다.\n",
    "    tensor = tokenizer.texts_to_sequences(corpus)   # tokenizer는 구축한 사전으로부터 corpus를 해석해 Tensor로 변환합니다.\n",
    "\t\n",
    "    total_data_text = list(tensor)\n",
    "    num_tokens = [len(tokens) for tokens in total_data_text]\n",
    "    max_tokens = np.mean(num_tokens) + 2 * np.std(num_tokens)\n",
    "    maxlen = int(max_tokens)\n",
    "    # 입력 데이터의 시퀀스 길이를 일정하게 맞추기 위한 padding  메소드를 제공합니다.\n",
    "    # maxlen의 디폴트값은 None입니다. 이 경우 corpus의 가장 긴 문장을 기준으로 시퀀스 길이가 맞춰집니다.\n",
    "    tensor = tf.keras.preprocessing.sequence.pad_sequences(tensor, \n",
    "                                                           padding='post',\n",
    "                                                          maxlen=maxlen)  \n",
    "\n",
    "    print(tensor,tokenizer)\n",
    "    return tensor, tokenizer\n",
    "\n",
    "tensor, tokenizer = tokenize(corpus)"
   ]
  },
  {
   "cell_type": "code",
   "execution_count": 10,
   "id": "463b4878",
   "metadata": {},
   "outputs": [
    {
     "name": "stdout",
     "output_type": "stream",
     "text": [
      "1 : <unk>\n",
      "2 : <start>\n",
      "3 : <end>\n",
      "4 : ,\n",
      "5 : i\n",
      "6 : the\n",
      "7 : you\n",
      "8 : and\n",
      "9 : a\n",
      "10 : to\n"
     ]
    }
   ],
   "source": [
    "for idx in tokenizer.index_word:\n",
    "    print(idx, \":\", tokenizer.index_word[idx])\n",
    "\n",
    "    if idx >= 10: break"
   ]
  },
  {
   "cell_type": "code",
   "execution_count": 11,
   "id": "61387014",
   "metadata": {},
   "outputs": [
    {
     "name": "stdout",
     "output_type": "stream",
     "text": [
      "[   2 3608 1655   15 6337 3896    4 1037   28    9  640    3    0    0\n",
      "    0    0    0    0    0]\n",
      "[3608 1655   15 6337 3896    4 1037   28    9  640    3    0    0    0\n",
      "    0    0    0    0    0]\n"
     ]
    }
   ],
   "source": [
    "src_input = tensor[:, :-1]  # tensor에서 마지막 토큰을 잘라내서 소스 문장을 생성합니다. 마지막 토큰은 <END>가 아니라 <pad>일 가능성이 높습니다.\n",
    "tgt_input = tensor[:, 1:]    # tensor에서 <START>를 잘라내서 타겟 문장을 생성합니다.\n",
    "\n",
    "print(src_input[0])\n",
    "print(tgt_input[0])"
   ]
  },
  {
   "cell_type": "markdown",
   "id": "07ce0aed",
   "metadata": {},
   "source": [
    "## 👣Step 5. 평가 데이터셋 분리"
   ]
  },
  {
   "cell_type": "code",
   "execution_count": 12,
   "id": "1b5cb028",
   "metadata": {},
   "outputs": [],
   "source": [
    "BUFFER_SIZE = len(src_input)\n",
    "BATCH_SIZE = 256\n",
    "steps_per_epoch = len(src_input) // BATCH_SIZE\n",
    "\n",
    " # tokenizer의 단어 17000개, 0:<pad>를 포함하여 17001개입니다.\n",
    "VOCAB_SIZE = tokenizer.num_words + 1   \n",
    "\n",
    "# Train, val data 분리\n",
    "X_train, X_fox, y_train, y_fox = train_test_split(src_input, tgt_input, test_size=0.2, random_state=49)\n",
    "\n",
    "\n",
    "# 준비한 데이터 소스로부터 데이터셋을 만듭니다.\n",
    "train_dataset = tf.data.Dataset.from_tensor_slices((X_train, y_train))\n",
    "train_dataset = train_dataset.shuffle(BUFFER_SIZE)\n",
    "train_dataset = train_dataset.batch(BATCH_SIZE, drop_remainder=True)\n",
    "\n",
    "fox_dataset = tf.data.Dataset.from_tensor_slices((X_fox, y_fox))\n",
    "fox_dataset = fox_dataset.shuffle(BUFFER_SIZE)\n",
    "fox_dataset = fox_dataset.batch(BATCH_SIZE, drop_remainder=True)"
   ]
  },
  {
   "cell_type": "code",
   "execution_count": 13,
   "id": "9b1c92a8",
   "metadata": {},
   "outputs": [
    {
     "name": "stdout",
     "output_type": "stream",
     "text": [
      "(122568, 19)\n",
      "(122568, 19)\n"
     ]
    }
   ],
   "source": [
    "print(X_train.shape)\n",
    "print(y_train.shape)"
   ]
  },
  {
   "cell_type": "code",
   "execution_count": 14,
   "id": "6e5290b9",
   "metadata": {},
   "outputs": [
    {
     "name": "stdout",
     "output_type": "stream",
     "text": [
      "(30643, 19)\n",
      "(30643, 19)\n"
     ]
    }
   ],
   "source": [
    "print(X_fox.shape)\n",
    "print(y_fox.shape)"
   ]
  },
  {
   "cell_type": "code",
   "execution_count": 15,
   "id": "e576ae1b",
   "metadata": {},
   "outputs": [
    {
     "data": {
      "text/plain": [
       "<BatchDataset shapes: ((256, 19), (256, 19)), types: (tf.int32, tf.int32)>"
      ]
     },
     "execution_count": 15,
     "metadata": {},
     "output_type": "execute_result"
    }
   ],
   "source": [
    "train_dataset"
   ]
  },
  {
   "cell_type": "code",
   "execution_count": 16,
   "id": "6c62e891",
   "metadata": {},
   "outputs": [
    {
     "data": {
      "text/plain": [
       "<BatchDataset shapes: ((256, 19), (256, 19)), types: (tf.int32, tf.int32)>"
      ]
     },
     "execution_count": 16,
     "metadata": {},
     "output_type": "execute_result"
    }
   ],
   "source": [
    "fox_dataset"
   ]
  },
  {
   "cell_type": "code",
   "execution_count": 17,
   "id": "de38ac61",
   "metadata": {},
   "outputs": [],
   "source": [
    "def plot_curve(epochs, hist, list_of_metrics):\n",
    "    \n",
    "    fig, ax = plt.subplots(1,2,figsize = (12, 8))\n",
    "    \n",
    "    for i in range(len(ax)):\n",
    "        ax[i].set_xlabel('Epochs')\n",
    "        ax[i].set_ylabel('Value')\n",
    "        \n",
    "        for n in range(len(list_of_metrics)):\n",
    "            if i == 0:\n",
    "                y = hist[list_of_metrics[n]]\n",
    "                if n == 0:\n",
    "                    ax[i].plot(epochs, y, label=\"train\")\n",
    "                else:\n",
    "                    ax[i].plot(epochs, y, label=\"val\")\n",
    "                ax[i].set_title('Loss')\n",
    "                ax[i].legend(loc='upper right')\n",
    "                if n == 1:\n",
    "                    break\n",
    "            else:\n",
    "                if n >= 2:\n",
    "                    y = hist[list_of_metrics[n]]\n",
    "                    if n == 2:\n",
    "                        ax[i].plot(epochs, y, label=\"train\")\n",
    "                    else:\n",
    "                        ax[i].plot(epochs, y, label=\"val\")\n",
    "                    ax[i].set_title('Accuracy')\n",
    "                    ax[i].legend(loc='lower right')\n",
    "                    \n",
    "    plt.show()"
   ]
  },
  {
   "cell_type": "code",
   "execution_count": 18,
   "id": "4545d08a",
   "metadata": {},
   "outputs": [],
   "source": [
    "class TextGenerator(tf.keras.Model):\n",
    "    def __init__(self, vocab_size, embedding_size, hidden_size):\n",
    "        super(TextGenerator, self).__init__()\n",
    "        \n",
    "        self.embedding = tf.keras.layers.Embedding(vocab_size, embedding_size)\n",
    "        self.rnn_1 = tf.keras.layers.LSTM(hidden_size, return_sequences=True)\n",
    "        self.drop1 = tf.keras.layers.Dropout(0.3)\n",
    "        self.rnn_2 = tf.keras.layers.LSTM(hidden_size, return_sequences=True)\n",
    "        self.linear = tf.keras.layers.Dense(vocab_size)\n",
    "        \n",
    "    def call(self, x):\n",
    "        out = self.embedding(x)\n",
    "        out = self.rnn_1(out)\n",
    "        out = self.drop1(out)\n",
    "        out = self.rnn_2(out)\n",
    "        out = self.linear(out)\n",
    "        \n",
    "        return out\n",
    "    \n",
    "embedding_size = 1024\n",
    "hidden_size = 2048\n",
    "model = TextGenerator(tokenizer.num_words + 1, embedding_size , hidden_size)"
   ]
  },
  {
   "cell_type": "code",
   "execution_count": 19,
   "id": "42ee3056",
   "metadata": {},
   "outputs": [
    {
     "data": {
      "text/plain": [
       "<tf.Tensor: shape=(256, 19, 17001), dtype=float32, numpy=\n",
       "array([[[-1.40879929e-04, -5.18796587e-05,  3.45731241e-04, ...,\n",
       "          1.42016666e-04,  8.98681101e-05, -1.62823635e-04],\n",
       "        [-3.22671724e-04, -1.29908032e-04,  4.51113097e-04, ...,\n",
       "         -2.32025966e-04,  3.90218833e-04,  2.27962577e-04],\n",
       "        [-2.24309930e-04, -3.34710348e-04,  5.81824628e-04, ...,\n",
       "         -6.16510166e-04,  2.79582280e-04,  1.60098454e-04],\n",
       "        ...,\n",
       "        [-1.62777503e-03, -2.41252448e-04,  1.45926303e-03, ...,\n",
       "          1.31748698e-03, -1.09348388e-03, -3.65626952e-03],\n",
       "        [-1.87793677e-03, -3.00174230e-04,  1.66508718e-03, ...,\n",
       "          1.68709958e-03, -1.24047836e-03, -3.61979008e-03],\n",
       "        [-2.11701123e-03, -3.38467391e-04,  1.84564653e-03, ...,\n",
       "          2.02356186e-03, -1.39233680e-03, -3.54811130e-03]],\n",
       "\n",
       "       [[-1.40879929e-04, -5.18796587e-05,  3.45731241e-04, ...,\n",
       "          1.42016666e-04,  8.98681101e-05, -1.62823635e-04],\n",
       "        [ 1.15680676e-04,  1.66361671e-04,  2.53970356e-04, ...,\n",
       "          5.83348912e-04, -3.17579863e-04, -1.32478206e-04],\n",
       "        [ 1.76612011e-04,  4.63695178e-04,  2.00269031e-04, ...,\n",
       "          3.70286056e-04, -1.06738822e-03,  2.49525241e-04],\n",
       "        ...,\n",
       "        [-1.86492060e-03,  8.96058045e-05,  2.20618933e-03, ...,\n",
       "          1.41522556e-03, -1.13668863e-03, -3.47533566e-03],\n",
       "        [-2.10955739e-03,  5.76011407e-05,  2.34490307e-03, ...,\n",
       "          1.66534935e-03, -1.26533571e-03, -3.50468163e-03],\n",
       "        [-2.34038616e-03,  3.31036645e-05,  2.46572704e-03, ...,\n",
       "          1.91572518e-03, -1.40468706e-03, -3.48773738e-03]],\n",
       "\n",
       "       [[-1.40879929e-04, -5.18796587e-05,  3.45731241e-04, ...,\n",
       "          1.42016666e-04,  8.98681101e-05, -1.62823635e-04],\n",
       "        [ 4.08908934e-04,  1.73217326e-04,  3.80653393e-04, ...,\n",
       "          2.47883814e-04, -1.36766670e-04, -3.02899309e-04],\n",
       "        [ 5.18136774e-04,  4.89559134e-05,  9.58693126e-05, ...,\n",
       "          5.89818170e-04, -2.01328774e-04, -5.75080630e-04],\n",
       "        ...,\n",
       "        [-2.32196576e-03, -5.82668930e-04,  2.76552816e-03, ...,\n",
       "          2.84984498e-03, -1.98488543e-03, -3.16232489e-03],\n",
       "        [-2.54778983e-03, -5.15745603e-04,  2.80199619e-03, ...,\n",
       "          3.03956331e-03, -2.11947761e-03, -3.10664880e-03],\n",
       "        [-2.74968869e-03, -4.54643596e-04,  2.82601081e-03, ...,\n",
       "          3.21037951e-03, -2.24634307e-03, -3.04525788e-03]],\n",
       "\n",
       "       ...,\n",
       "\n",
       "       [[-1.40879929e-04, -5.18796587e-05,  3.45731241e-04, ...,\n",
       "          1.42016666e-04,  8.98681101e-05, -1.62823635e-04],\n",
       "        [-9.22026928e-04,  1.52590219e-04,  4.33771231e-04, ...,\n",
       "          1.31779510e-04,  1.00823905e-04, -2.68746342e-04],\n",
       "        [-1.64648262e-03,  4.58951574e-04,  5.02656796e-04, ...,\n",
       "          2.92059296e-04,  3.59208661e-06, -2.49741279e-04],\n",
       "        ...,\n",
       "        [-1.37495634e-03, -6.17112324e-04,  2.72502797e-03, ...,\n",
       "          3.41447361e-04,  3.41170438e-04, -3.37744365e-03],\n",
       "        [-1.49833492e-03, -6.22879365e-04,  2.80172029e-03, ...,\n",
       "          5.32245729e-04,  1.82946271e-04, -3.57178296e-03],\n",
       "        [-1.65944081e-03, -6.12415490e-04,  2.87586451e-03, ...,\n",
       "          7.69228034e-04, -3.40866495e-06, -3.67477094e-03]],\n",
       "\n",
       "       [[-1.40879929e-04, -5.18796587e-05,  3.45731241e-04, ...,\n",
       "          1.42016666e-04,  8.98681101e-05, -1.62823635e-04],\n",
       "        [-7.84887350e-04, -5.91820455e-04,  3.90462374e-04, ...,\n",
       "          9.40764658e-05,  9.21834871e-05, -2.36466440e-05],\n",
       "        [-1.37234887e-03, -6.79933466e-04,  6.43262290e-04, ...,\n",
       "         -1.65814490e-05,  3.35505640e-04,  2.21689290e-04],\n",
       "        ...,\n",
       "        [-1.18916840e-04, -8.25027470e-04,  1.94770505e-03, ...,\n",
       "          1.31531688e-03, -7.57505302e-04, -3.02002137e-03],\n",
       "        [-3.81954218e-04, -7.38634553e-04,  2.12107552e-03, ...,\n",
       "          1.48549594e-03, -9.00342944e-04, -3.27888620e-03],\n",
       "        [-6.68778201e-04, -6.61360391e-04,  2.27623363e-03, ...,\n",
       "          1.68470200e-03, -1.04614522e-03, -3.43674258e-03]],\n",
       "\n",
       "       [[-1.40879929e-04, -5.18796587e-05,  3.45731241e-04, ...,\n",
       "          1.42016666e-04,  8.98681101e-05, -1.62823635e-04],\n",
       "        [-4.53070534e-05, -2.20698712e-04,  5.70922042e-04, ...,\n",
       "         -1.14417189e-05, -1.46935679e-04, -4.88712336e-04],\n",
       "        [-4.90979059e-04, -4.42870980e-04,  3.94166884e-04, ...,\n",
       "          1.84709468e-04,  4.66327547e-05, -1.10235196e-04],\n",
       "        ...,\n",
       "        [-1.53112027e-03, -1.14034093e-03,  6.62857608e-04, ...,\n",
       "          7.14490365e-04, -8.04681098e-04, -2.86812661e-03],\n",
       "        [-1.75239949e-03, -1.00746099e-03,  9.16629622e-04, ...,\n",
       "          1.03857124e-03, -9.42079118e-04, -3.05518555e-03],\n",
       "        [-1.97171653e-03, -8.86303314e-04,  1.16045191e-03, ...,\n",
       "          1.36189570e-03, -1.08527322e-03, -3.16129345e-03]]],\n",
       "      dtype=float32)>"
      ]
     },
     "execution_count": 19,
     "metadata": {},
     "output_type": "execute_result"
    }
   ],
   "source": [
    "for src_sample, tgt_sample in train_dataset.take(1): break\n",
    "model(src_sample)"
   ]
  },
  {
   "cell_type": "code",
   "execution_count": 20,
   "id": "126d0c5d",
   "metadata": {},
   "outputs": [
    {
     "name": "stdout",
     "output_type": "stream",
     "text": [
      "Model: \"text_generator\"\n",
      "_________________________________________________________________\n",
      "Layer (type)                 Output Shape              Param #   \n",
      "=================================================================\n",
      "embedding (Embedding)        multiple                  17409024  \n",
      "_________________________________________________________________\n",
      "lstm (LSTM)                  multiple                  25174016  \n",
      "_________________________________________________________________\n",
      "dropout (Dropout)            multiple                  0         \n",
      "_________________________________________________________________\n",
      "lstm_1 (LSTM)                multiple                  33562624  \n",
      "_________________________________________________________________\n",
      "dense (Dense)                multiple                  34835049  \n",
      "=================================================================\n",
      "Total params: 110,980,713\n",
      "Trainable params: 110,980,713\n",
      "Non-trainable params: 0\n",
      "_________________________________________________________________\n"
     ]
    }
   ],
   "source": [
    "model.summary()"
   ]
  },
  {
   "cell_type": "code",
   "execution_count": 21,
   "id": "0b5360d2",
   "metadata": {},
   "outputs": [],
   "source": [
    "optimizer = tf.keras.optimizers.Adam(learning_rate=0.001)\n",
    "loss = tf.keras.losses.SparseCategoricalCrossentropy(\n",
    "    from_logits=True,\n",
    "    reduction='none'\n",
    ")\n",
    "\n",
    "model.compile(loss=loss, optimizer=optimizer, metrics=['accuracy'])"
   ]
  },
  {
   "cell_type": "markdown",
   "id": "97b6bc0d",
   "metadata": {},
   "source": [
    "## 👣Step 6. 인공지능 만들기"
   ]
  },
  {
   "cell_type": "code",
   "execution_count": 22,
   "id": "a62ecc09",
   "metadata": {},
   "outputs": [
    {
     "name": "stdout",
     "output_type": "stream",
     "text": [
      "Epoch 1/10\n",
      "478/478 [==============================] - 404s 836ms/step - loss: 2.8767 - accuracy: 0.5735 - val_loss: 2.5335 - val_accuracy: 0.6011\n",
      "Epoch 2/10\n",
      "478/478 [==============================] - 409s 856ms/step - loss: 2.3770 - accuracy: 0.6111 - val_loss: 2.3086 - val_accuracy: 0.6195\n",
      "Epoch 3/10\n",
      "478/478 [==============================] - 410s 858ms/step - loss: 2.1479 - accuracy: 0.6289 - val_loss: 2.1791 - val_accuracy: 0.6349\n",
      "Epoch 4/10\n",
      "478/478 [==============================] - 411s 859ms/step - loss: 1.9528 - accuracy: 0.6478 - val_loss: 2.0947 - val_accuracy: 0.6481\n",
      "Epoch 5/10\n",
      "478/478 [==============================] - 411s 859ms/step - loss: 1.7728 - accuracy: 0.6681 - val_loss: 2.0341 - val_accuracy: 0.6614\n",
      "Epoch 6/10\n",
      "478/478 [==============================] - 411s 859ms/step - loss: 1.6060 - accuracy: 0.6904 - val_loss: 1.9953 - val_accuracy: 0.6715\n",
      "Epoch 7/10\n",
      "478/478 [==============================] - 411s 859ms/step - loss: 1.4521 - accuracy: 0.7137 - val_loss: 1.9741 - val_accuracy: 0.6796\n",
      "Epoch 8/10\n",
      "478/478 [==============================] - 411s 859ms/step - loss: 1.3136 - accuracy: 0.7366 - val_loss: 1.9649 - val_accuracy: 0.6873\n",
      "Epoch 9/10\n",
      "478/478 [==============================] - 411s 860ms/step - loss: 1.1879 - accuracy: 0.7589 - val_loss: 1.9714 - val_accuracy: 0.6930\n",
      "Epoch 10/10\n",
      "478/478 [==============================] - 411s 860ms/step - loss: 1.0775 - accuracy: 0.7804 - val_loss: 1.9867 - val_accuracy: 0.6959\n"
     ]
    }
   ],
   "source": [
    "history = model.fit(train_dataset,\n",
    "            epochs=10,\n",
    "            batch_size=256,\n",
    "            validation_data=fox_dataset,\n",
    "            verbose=1)"
   ]
  },
  {
   "cell_type": "code",
   "execution_count": 23,
   "id": "5b8a4822",
   "metadata": {
    "scrolled": true
   },
   "outputs": [
    {
     "data": {
      "text/plain": [
       "<Figure size 1080x576 with 0 Axes>"
      ]
     },
     "metadata": {},
     "output_type": "display_data"
    },
    {
     "data": {
      "image/png": "[encoded data removed]",
      "text/plain": [
       "<Figure size 864x576 with 2 Axes>"
      ]
     },
     "metadata": {
      "needs_background": "light"
     },
     "output_type": "display_data"
    }
   ],
   "source": [
    "plt.figure(figsize=(15,8))\n",
    "\n",
    "plot_curve(history.epoch, history.history, ['loss', 'val_loss', 'accuracy', 'val_accuracy'])"
   ]
  },
  {
   "cell_type": "code",
   "execution_count": 24,
   "id": "dbfb705b",
   "metadata": {},
   "outputs": [],
   "source": [
    "def generate_text(model, tokenizer, init_sentence=\"<start>\", max_len=20):\n",
    "    # 테스트를 위해 입력받은 init_sentence도 텐서로 변환합니다.\n",
    "    test_input = tokenizer.texts_to_sequences([init_sentence])\n",
    "    test_tensor = tf.convert_to_tensor(test_input, dtype=tf.int64)\n",
    "    end_token = tokenizer.word_index[\"<end>\"]\n",
    "\n",
    "    # 루프를 돌면서 단어를 하나씩 생성 합니다. \n",
    "    while True:\n",
    "        predict = model(test_tensor)  # 텐서를 입력합니다. \n",
    "        predict_word = tf.argmax(tf.nn.softmax(predict, axis=-1), axis=-1)[:, -1]   # 우리 모델이 예측한 마지막 단어가 바로 새롭게 생성한 단어가 됩니다. \n",
    "\n",
    "        # 모델이 새롭게 예측한 단어를 입력 문장의 뒤에 붙입니다. \n",
    "        test_tensor = tf.concat([test_tensor, tf.expand_dims(predict_word, axis=0)], axis=-1)\n",
    "\n",
    "        # 모델이 <END>를 예측하지 않았거나, max_len에 도달하지 않았다면  while 루프를 또 돌면서 다음 단어를 예측합니다.\n",
    "        if predict_word.numpy()[0] == end_token: break\n",
    "        if test_tensor.shape[1] >= max_len: break\n",
    "\n",
    "    generated = \"\"\n",
    "    # 생성된 tensor 안에 있는 word index를 tokenizer.index_word 사전을 통해 실제 단어로 하나씩 변환합니다. \n",
    "    for word_index in test_tensor[0].numpy():\n",
    "        generated += tokenizer.index_word[word_index] + \" \"\n",
    "\n",
    "    return generated   # 이것이 최종적으로 모델이 생성한 자연어 문장입니다."
   ]
  },
  {
   "cell_type": "code",
   "execution_count": 34,
   "id": "20be38c3",
   "metadata": {
    "scrolled": true
   },
   "outputs": [
    {
     "name": "stdout",
     "output_type": "stream",
     "text": [
      "<start> i love you , i m not gonna crack <end> \n",
      "<start> i miss you so , so , i do <end> \n",
      "<start> you make me complete <end> \n",
      "<start> i wanna be with you , i wanna be with you <end> \n"
     ]
    }
   ],
   "source": [
    "print(generate_text(model, tokenizer, init_sentence=\"<start> I love\", max_len=20))\n",
    "print(generate_text(model, tokenizer, init_sentence=\"<start> I miss\", max_len=20))\n",
    "print(generate_text(model, tokenizer, init_sentence=\"<start> You make me\", max_len=20))\n",
    "print(generate_text(model, tokenizer, init_sentence=\"<start> I wanna\", max_len=20))"
   ]
  },
  {
   "cell_type": "markdown",
   "id": "61498446",
   "metadata": {},
   "source": [
    "## 🚩STEP.7 회고"
   ]
  },
  {
   "cell_type": "markdown",
   "id": "46282f18",
   "metadata": {},
   "source": [
    "__1. 데이터 정리__  \n",
    "우선 제일 처음부터 애를 먹었다.  \n",
    "데이터들을 나열했을 때 중복되는 가수들이 보였고 또 성범죄자가 포함되어 있어서 그냥 진행을 해도 됐겠지만 성범죄자 그것도 아동 성범죄자를 데이터에 넣을 수는 없었다.  \n",
    "또한 대부분의 사람은 몰랐겠지만 가수들의 목록 중 'Nursery rhyme'는 동요라서 더욱 빼고 싶었다.  \n",
    "그런데 여기서 고민이 있었다. 그건 바로 데이터를 어떻게 정리할 것인가였다.  \n",
    "사실 가장 간단한 방법으로는 클라우드에서 데이터를 삭제하는 방법도 이겠지만 익스에서 IF 문으로 구현해 보고 싶었고 이를 통해서 내 코딩 실력과 지식을 높여보고 싶었다.  \n",
    "그래서 IF 문을 넣었을 때 처음에는 가수 이름을 지정하여 넣었지만 실행이 되지 않았다.  \n",
    "그 이유는 간단했는데 제일 처음 IF 문 뒤에 텍스트 파일을 지정했는데 텍스트 파일의 경우는 경로를 지칭하는 부분이기 때문에 가수 이름이 아닌 똑같이 경로를 설정해 주어야 했다.  \n",
    "결과는 성공했고 데이터가 잘 정리되었다.  \n",
    "  \n",
    "  \n",
    "__2. 러닝 레이트__  \n",
    "되게 어이없는 실수였다.  \n",
    "난 당연하게도 이전 노드에서 러닝 레이트 값을 늘 0.5부터 시작했는데 여기서 0.5를 넣어주니 로스 값이 136으로 확 튀었다.  \n",
    "그래서 처음에는 무엇이 잘못되었는지 몰라서 배치 사이즈부터 랜덤 스테이트까지 모두 건드려 봤지만 계속 해서 로스 값이 똑같았고 러닝 레이트를 한번 건드려 봤을 때 값이 확 떨어진 것을 보고 러닝 레이트가 문제였다고 생각하여 수정하니 좋은 결과가 나왔다.\n",
    "   \n",
    "     \n",
    "     \n",
    "__3. 진행하고 느낀 점__  \n",
    "자부심 가질 수 있을 것 같습니다.  \n",
    "저는 그 누구도 성범죄자를 빼지 않았을 것이라고 생각합니다.  \n",
    "하지만 데이터를 일일이 찾아보고 검수하며 올바른 데이터로 좋은 결과를 나타내는 것 또한 중요한 일이라서 시도해 보았고 다행히도 성공적으로 마무리되어서 기쁜 마음으로 마무리할 수 있을 것 같습니다.  \n",
    "춘식이의 실험실은 오늘 좋은 일을 했습니다..! \n",
    "제 노드 봐주셔서 감사합니다!"
   ]
  },
  {
   "cell_type": "code",
   "execution_count": null,
   "id": "a3ea8b45",
   "metadata": {},
   "outputs": [],
   "source": []
  }
 ],
 "metadata": {
  "kernelspec": {
   "display_name": "Python 3 (ipykernel)",
   "language": "python",
   "name": "python3"
  },
  "language_info": {
   "codemirror_mode": {
    "name": "ipython",
    "version": 3
   },
   "file_extension": ".py",
   "mimetype": "text/x-python",
   "name": "python",
   "nbconvert_exporter": "python",
   "pygments_lexer": "ipython3",
   "version": "3.9.7"
  }
 },
 "nbformat": 4,
 "nbformat_minor": 5
}
